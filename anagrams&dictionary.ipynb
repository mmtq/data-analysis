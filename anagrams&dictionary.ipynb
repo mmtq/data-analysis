{
 "cells": [
  {
   "cell_type": "code",
   "execution_count": 1,
   "metadata": {},
   "outputs": [],
   "source": [
    "import math\n",
    "import collections\n",
    "import pandas as pd\n",
    "import numpy as np\n",
    "import matplotlib.pyplot as pp"
   ]
  },
  {
   "cell_type": "code",
   "execution_count": 2,
   "metadata": {},
   "outputs": [
    {
     "data": {
      "text/plain": [
       "466549"
      ]
     },
     "execution_count": 2,
     "metadata": {},
     "output_type": "execute_result"
    }
   ],
   "source": [
    "words = []\n",
    "for line in open('words.txt'):\n",
    "    words.append(line.strip().lower())\n",
    "len(words)"
   ]
  },
  {
   "cell_type": "code",
   "execution_count": 3,
   "metadata": {},
   "outputs": [
    {
     "data": {
      "text/plain": [
       "466545"
      ]
     },
     "execution_count": 3,
     "metadata": {},
     "output_type": "execute_result"
    }
   ],
   "source": [
    "words = set(words)\n",
    "len(words)"
   ]
  },
  {
   "cell_type": "code",
   "execution_count": 4,
   "metadata": {},
   "outputs": [
    {
     "data": {
      "text/plain": [
       "466545"
      ]
     },
     "execution_count": 4,
     "metadata": {},
     "output_type": "execute_result"
    }
   ],
   "source": [
    "words = set()\n",
    "for line in open('words.txt'):\n",
    "    words.add(line.strip().lower())\n",
    "len(words)"
   ]
  },
  {
   "cell_type": "code",
   "execution_count": 5,
   "metadata": {},
   "outputs": [],
   "source": [
    "words = sorted(words)"
   ]
  },
  {
   "cell_type": "code",
   "execution_count": 6,
   "metadata": {},
   "outputs": [
    {
     "data": {
      "text/plain": [
       "True"
      ]
     },
     "execution_count": 6,
     "metadata": {},
     "output_type": "execute_result"
    }
   ],
   "source": [
    "sorted(\"levis\") == sorted(\"velis\")"
   ]
  },
  {
   "cell_type": "code",
   "execution_count": 7,
   "metadata": {},
   "outputs": [
    {
     "data": {
      "text/plain": [
       "'a-a-n-o-r'"
      ]
     },
     "execution_count": 7,
     "metadata": {},
     "output_type": "execute_result"
    }
   ],
   "source": [
    "'-'.join(sorted(\"aaron\"))"
   ]
  },
  {
   "cell_type": "code",
   "execution_count": 8,
   "metadata": {},
   "outputs": [
    {
     "data": {
      "text/plain": [
       "'aanor'"
      ]
     },
     "execution_count": 8,
     "metadata": {},
     "output_type": "execute_result"
    }
   ],
   "source": [
    "''.join(sorted(\"aaron\"))"
   ]
  },
  {
   "cell_type": "code",
   "execution_count": 9,
   "metadata": {},
   "outputs": [],
   "source": [
    "def signature(word):\n",
    "    return ''.join(sorted(word))"
   ]
  },
  {
   "cell_type": "code",
   "execution_count": 10,
   "metadata": {},
   "outputs": [],
   "source": [
    "def find_anagrams(myword):\n",
    "    myword = signature(myword)\n",
    "    for word in words:\n",
    "        if myword == signature(word):\n",
    "            print(word)"
   ]
  },
  {
   "cell_type": "code",
   "execution_count": 11,
   "metadata": {},
   "outputs": [
    {
     "name": "stdout",
     "output_type": "stream",
     "text": [
      "father\n",
      "freath\n",
      "hafter\n",
      "trefah\n",
      "CPU times: total: 500 ms\n",
      "Wall time: 1.64 s\n"
     ]
    }
   ],
   "source": [
    "%time find_anagrams('father')\n"
   ]
  },
  {
   "cell_type": "code",
   "execution_count": 12,
   "metadata": {},
   "outputs": [],
   "source": [
    "words_by_sig = collections.defaultdict(list)\n",
    "\n",
    "for word in words:\n",
    "    words_by_sig[signature(word)].append(word)"
   ]
  },
  {
   "cell_type": "code",
   "execution_count": 13,
   "metadata": {},
   "outputs": [
    {
     "name": "stdout",
     "output_type": "stream",
     "text": [
      "CPU times: total: 0 ns\n",
      "Wall time: 0 ns\n"
     ]
    },
    {
     "data": {
      "text/plain": [
       "['father', 'freath', 'hafter', 'trefah']"
      ]
     },
     "execution_count": 13,
     "metadata": {},
     "output_type": "execute_result"
    }
   ],
   "source": [
    "%time words_by_sig[signature('father')]"
   ]
  },
  {
   "cell_type": "code",
   "execution_count": 14,
   "metadata": {},
   "outputs": [],
   "source": [
    "def find_anagrams(myword):\n",
    "    myword = signature(myword)\n",
    "    return words_by_sig[myword]\n"
   ]
  },
  {
   "cell_type": "code",
   "execution_count": 15,
   "metadata": {},
   "outputs": [
    {
     "name": "stdout",
     "output_type": "stream",
     "text": [
      "CPU times: total: 0 ns\n",
      "Wall time: 0 ns\n"
     ]
    },
    {
     "data": {
      "text/plain": [
       "['father', 'freath', 'hafter', 'trefah']"
      ]
     },
     "execution_count": 15,
     "metadata": {},
     "output_type": "execute_result"
    }
   ],
   "source": [
    "%time find_anagrams('father')"
   ]
  },
  {
   "cell_type": "code",
   "execution_count": 16,
   "metadata": {},
   "outputs": [
    {
     "data": {
      "text/plain": [
       "['aacccccceiiiiiilllmmnnnnooooooooopprrsssstuuv',\n",
       " 'accddeeehhhhiiilllnnooooprrrtty',\n",
       " 'acceeeehiiiillmmnnnorrrttttyy',\n",
       " 'aeeehhiiiillmmnnnnoprrrttttyy',\n",
       " 'aaaabdeehiiiiilmmnnnrssssttt',\n",
       " 'ccdddeeehhinooooorrrrsttxyyy',\n",
       " 'aaaccceeeeghhillllnoopprrty',\n",
       " 'ccddeeehinooooorrrssttxxyyy',\n",
       " 'accceehiillmmoooopprrrsttty',\n",
       " '----aaeeeeghiklllmnnoorttv']"
      ]
     },
     "execution_count": 16,
     "metadata": {},
     "output_type": "execute_result"
    }
   ],
   "source": [
    "longest_anagram = sorted(words_by_sig.keys(), key=len, reverse=True)\n",
    "longest_anagram[:10]"
   ]
  },
  {
   "cell_type": "code",
   "execution_count": 17,
   "metadata": {},
   "outputs": [
    {
     "data": {
      "text/plain": [
       "[['acers',\n",
       "  'acres',\n",
       "  'arces',\n",
       "  'cares',\n",
       "  'carse',\n",
       "  'caser',\n",
       "  'ceras',\n",
       "  'cesar',\n",
       "  'cresa',\n",
       "  'escar',\n",
       "  'races',\n",
       "  'sacre',\n",
       "  'scare',\n",
       "  'scrae',\n",
       "  'serac'],\n",
       " ['aldern',\n",
       "  'andrel',\n",
       "  'darnel',\n",
       "  'enlard',\n",
       "  'erland',\n",
       "  'ernald',\n",
       "  'ladner',\n",
       "  'lander',\n",
       "  'landre',\n",
       "  'larned',\n",
       "  'lenard',\n",
       "  'nadler',\n",
       "  'randel',\n",
       "  'randle',\n",
       "  'reland'],\n",
       " ['alerts',\n",
       "  'alters',\n",
       "  'artels',\n",
       "  'estral',\n",
       "  'laster',\n",
       "  'lastre',\n",
       "  'rastle',\n",
       "  'ratels',\n",
       "  'relast',\n",
       "  'resalt',\n",
       "  'salter',\n",
       "  'slater',\n",
       "  'staler',\n",
       "  'stelar',\n",
       "  'talers'],\n",
       " ['anestri',\n",
       "  'antsier',\n",
       "  'asterin',\n",
       "  'eranist',\n",
       "  'nastier',\n",
       "  'ratines',\n",
       "  'resiant',\n",
       "  'restain',\n",
       "  'retains',\n",
       "  'retinas',\n",
       "  'retsina',\n",
       "  'stainer',\n",
       "  'starnie',\n",
       "  'stearin',\n",
       "  'tersina'],\n",
       " ['arest',\n",
       "  'aster',\n",
       "  'astre',\n",
       "  'rates',\n",
       "  'reast',\n",
       "  'resat',\n",
       "  'serta',\n",
       "  'stare',\n",
       "  'strae',\n",
       "  'tares',\n",
       "  'tarse',\n",
       "  'tears',\n",
       "  'teras',\n",
       "  'treas',\n",
       "  'tresa'],\n",
       " ['adrien',\n",
       "  'andrei',\n",
       "  'ardine',\n",
       "  'dairen',\n",
       "  'darien',\n",
       "  'denair',\n",
       "  'denari',\n",
       "  'derain',\n",
       "  'derian',\n",
       "  'derina',\n",
       "  'draine',\n",
       "  'indear',\n",
       "  'rained',\n",
       "  'randie'],\n",
       " ['apers',\n",
       "  'apres',\n",
       "  'asper',\n",
       "  'pares',\n",
       "  'parse',\n",
       "  'pears',\n",
       "  'prase',\n",
       "  'presa',\n",
       "  'rapes',\n",
       "  'reaps',\n",
       "  'repas',\n",
       "  'spaer',\n",
       "  'spare',\n",
       "  'spear'],\n",
       " ['earth',\n",
       "  'erath',\n",
       "  'ertha',\n",
       "  'harte',\n",
       "  'hater',\n",
       "  'heart',\n",
       "  'herat',\n",
       "  'herta',\n",
       "  'rathe',\n",
       "  'retha',\n",
       "  'rheta',\n",
       "  'terah',\n",
       "  'thare',\n",
       "  'thera'],\n",
       " ['agler',\n",
       "  'alger',\n",
       "  'argel',\n",
       "  'argle',\n",
       "  'elgar',\n",
       "  'ergal',\n",
       "  'galer',\n",
       "  'garle',\n",
       "  'glare',\n",
       "  'lager',\n",
       "  'large',\n",
       "  'legra',\n",
       "  'regal'],\n",
       " ['aliens',\n",
       "  'alines',\n",
       "  'alisen',\n",
       "  'alsine',\n",
       "  'elains',\n",
       "  'islaen',\n",
       "  'islean',\n",
       "  'lianes',\n",
       "  'lineas',\n",
       "  'neslia',\n",
       "  'saline',\n",
       "  'selina',\n",
       "  'silane']]"
      ]
     },
     "execution_count": 17,
     "metadata": {},
     "output_type": "execute_result"
    }
   ],
   "source": [
    "max_anagrams = sorted(words_by_sig.values(), key=len, reverse=True)\n",
    "max_anagrams[:10]"
   ]
  },
  {
   "cell_type": "code",
   "execution_count": null,
   "metadata": {},
   "outputs": [],
   "source": []
  }
 ],
 "metadata": {
  "kernelspec": {
   "display_name": "Python 3",
   "language": "python",
   "name": "python3"
  },
  "language_info": {
   "codemirror_mode": {
    "name": "ipython",
    "version": 3
   },
   "file_extension": ".py",
   "mimetype": "text/x-python",
   "name": "python",
   "nbconvert_exporter": "python",
   "pygments_lexer": "ipython3",
   "version": "3.12.7"
  }
 },
 "nbformat": 4,
 "nbformat_minor": 2
}
